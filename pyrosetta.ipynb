{
 "cells": [
  {
   "cell_type": "code",
   "execution_count": 1,
   "id": "067e8d4f",
   "metadata": {
    "_cell_guid": "b1076dfc-b9ad-4769-8c92-a6c4dae69d19",
    "_uuid": "8f2839f25d086af736a60e9eeb907d3b93b6e0e5",
    "execution": {
     "iopub.execute_input": "2025-08-06T15:31:22.734233Z",
     "iopub.status.busy": "2025-08-06T15:31:22.733941Z",
     "iopub.status.idle": "2025-08-06T15:33:42.253946Z",
     "shell.execute_reply": "2025-08-06T15:33:42.252396Z"
    },
    "papermill": {
     "duration": 139.525827,
     "end_time": "2025-08-06T15:33:42.256583",
     "exception": false,
     "start_time": "2025-08-06T15:31:22.730756",
     "status": "completed"
    },
    "tags": []
   },
   "outputs": [
    {
     "name": "stdout",
     "output_type": "stream",
     "text": [
      "Collecting pyrosetta-installer\r\n",
      "  Downloading pyrosetta_installer-0.1.2-py3-none-any.whl.metadata (1.6 kB)\r\n",
      "Downloading pyrosetta_installer-0.1.2-py3-none-any.whl (3.9 kB)\r\n",
      "Installing collected packages: pyrosetta-installer\r\n",
      "Successfully installed pyrosetta-installer-0.1.2\r\n",
      "Installing PyRosetta:\n",
      " os: ubuntu\n",
      " type: Release\n",
      " Rosetta C++ extras: \n",
      " mirror: https://west.rosettacommons.org/pyrosetta/release/release\n",
      " extra packages: numpy\n",
      "\n",
      "PyRosetta wheel url: https://:@west.rosettacommons.org/pyrosetta/release/release/PyRosetta4.Release.python311.ubuntu.wheel/pyrosetta-2025.25+release.a0cefad01b-cp311-cp311-linux_x86_64.whl\n",
      "Collecting pyrosetta==2025.25+release.a0cefad01b\n",
      "  Downloading https://:****@west.rosettacommons.org/pyrosetta/release/release/PyRosetta4.Release.python311.ubuntu.wheel/pyrosetta-2025.25+release.a0cefad01b-cp311-cp311-linux_x86_64.whl (1659.0 MB)\n",
      "     ━━━━━━━━━━━━━━━━━━━━━━━━━━━━━━━━━━━━━━━━ 1.7/1.7 GB 459.5 kB/s eta 0:00:00\n",
      "Installing collected packages: pyrosetta\n",
      "Successfully installed pyrosetta-2025.25+release.a0cefad01b\n",
      "Requirement already satisfied: numpy in /usr/local/lib/python3.11/dist-packages (1.26.4)\n",
      "Requirement already satisfied: mkl_fft in /usr/local/lib/python3.11/dist-packages (from numpy) (1.3.8)\n",
      "Requirement already satisfied: mkl_random in /usr/local/lib/python3.11/dist-packages (from numpy) (1.2.4)\n",
      "Requirement already satisfied: mkl_umath in /usr/local/lib/python3.11/dist-packages (from numpy) (0.1.1)\n",
      "Requirement already satisfied: mkl in /usr/local/lib/python3.11/dist-packages (from numpy) (2025.2.0)\n",
      "Requirement already satisfied: tbb4py in /usr/local/lib/python3.11/dist-packages (from numpy) (2022.2.0)\n",
      "Requirement already satisfied: mkl-service in /usr/local/lib/python3.11/dist-packages (from numpy) (2.4.1)\n",
      "Requirement already satisfied: intel-openmp<2026,>=2024 in /usr/local/lib/python3.11/dist-packages (from mkl->numpy) (2024.2.0)\n",
      "Requirement already satisfied: tbb==2022.* in /usr/local/lib/python3.11/dist-packages (from mkl->numpy) (2022.2.0)\n",
      "Requirement already satisfied: tcmlib==1.* in /usr/local/lib/python3.11/dist-packages (from tbb==2022.*->mkl->numpy) (1.4.0)\n",
      "Requirement already satisfied: intel-cmplr-lib-rt in /usr/local/lib/python3.11/dist-packages (from mkl_umath->numpy) (2024.2.0)\n",
      "Requirement already satisfied: intel-cmplr-lib-ur==2024.2.0 in /usr/local/lib/python3.11/dist-packages (from intel-openmp<2026,>=2024->mkl->numpy) (2024.2.0)\n"
     ]
    }
   ],
   "source": [
    "# This Python 3 environment comes with many helpful analytics libraries installed\n",
    "# It is defined by the kaggle/python Docker image: https://github.com/kaggle/docker-python\n",
    "# For example, here's several helpful packages to load\n",
    "\n",
    "! pip install pyrosetta-installer\n",
    "import pyrosetta_installer\n",
    "pyrosetta_installer.install_pyrosetta()"
   ]
  },
  {
   "cell_type": "code",
   "execution_count": 2,
   "id": "3858f292",
   "metadata": {
    "execution": {
     "iopub.execute_input": "2025-08-06T15:33:42.265281Z",
     "iopub.status.busy": "2025-08-06T15:33:42.264879Z",
     "iopub.status.idle": "2025-08-06T15:33:45.180542Z",
     "shell.execute_reply": "2025-08-06T15:33:45.179473Z"
    },
    "papermill": {
     "duration": 2.921652,
     "end_time": "2025-08-06T15:33:45.182417",
     "exception": false,
     "start_time": "2025-08-06T15:33:42.260765",
     "status": "completed"
    },
    "tags": []
   },
   "outputs": [
    {
     "name": "stdout",
     "output_type": "stream",
     "text": [
      "┌───────────────────────────────────────────────────────────────────────────────┐\n",
      "│                                  PyRosetta-4                                  │\n",
      "│               Created in JHU by Sergey Lyskov and PyRosetta Team              │\n",
      "│               (C) Copyright Rosetta Commons Member Institutions               │\n",
      "│                                                                               │\n",
      "│ NOTE: USE OF PyRosetta FOR COMMERCIAL PURPOSES REQUIRES PURCHASE OF A LICENSE │\n",
      "│          See LICENSE.PyRosetta.md or email license@uw.edu for details         │\n",
      "└───────────────────────────────────────────────────────────────────────────────┘\n",
      "PyRosetta-4 2025 [Rosetta PyRosetta4.Release.python311.ubuntu 2025.25+release.a0cefad01b3959ae8327a8931f5ad8c3fad27ea9 2025-06-18T10:51:52] retrieved from: http://www.pyrosetta.org\n"
     ]
    }
   ],
   "source": [
    "import pyrosetta\n",
    "pyrosetta.init()"
   ]
  }
 ],
 "metadata": {
  "kaggle": {
   "accelerator": "none",
   "dataSources": [],
   "dockerImageVersionId": 31089,
   "isGpuEnabled": false,
   "isInternetEnabled": true,
   "language": "python",
   "sourceType": "notebook"
  },
  "kernelspec": {
   "display_name": "Python 3",
   "language": "python",
   "name": "python3"
  },
  "language_info": {
   "codemirror_mode": {
    "name": "ipython",
    "version": 3
   },
   "file_extension": ".py",
   "mimetype": "text/x-python",
   "name": "python",
   "nbconvert_exporter": "python",
   "pygments_lexer": "ipython3",
   "version": "3.11.13"
  },
  "papermill": {
   "default_parameters": {},
   "duration": 148.693604,
   "end_time": "2025-08-06T15:33:46.411600",
   "environment_variables": {},
   "exception": null,
   "input_path": "__notebook__.ipynb",
   "output_path": "__notebook__.ipynb",
   "parameters": {},
   "start_time": "2025-08-06T15:31:17.717996",
   "version": "2.6.0"
  }
 },
 "nbformat": 4,
 "nbformat_minor": 5
}
